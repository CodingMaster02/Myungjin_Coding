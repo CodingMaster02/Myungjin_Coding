{
 "cells": [
  {
   "cell_type": "markdown",
   "metadata": {},
   "source": [
    "## [ 문 제 ]\n",
    "\n",
    "Given two arrays, write a function to compute their intersection.      \n",
    "=> 두 개의 배열이 주어지면, 그 교집합을 계산하는 함수를 작성\n",
    "\n",
    "---\n",
    "\n",
    "### Example 1:\n",
    "\n",
    "    * Input: nums1 = [1,2,2,1], nums2 = [2,2]\n",
    "    * Output: [2,2]\n",
    "\n",
    "\n",
    "### Example 2:\n",
    "\n",
    "    * Input: nums1 = [4,9,5], nums2 = [9,4,9,8,4]      \n",
    "    * Output: [4,9]\n",
    "\n",
    "---\n",
    "\n",
    "#### Note:\n",
    "\n",
    "Each element in the result should appear as many times as it shows in both arrays.         \n",
    "The result can be in any order.     \n",
    "=> 결과의 각 요소는 두 배열에 표시된 횟수만큼 나타납니다.\n",
    "결과는 어떤 순서로든 나올 수 있다.\n",
    "\n",
    "#### Follow up:\n",
    "\n",
    "What if the given array is already sorted? How would you optimize your algorithm?               \n",
    "What if nums1's size is small compared to nums2's size? Which algorithm is better?            \n",
    "What if elements of nums2 are stored on disk, and the memory is limited such that you cannot load all elements into the memory at once?"
   ]
  },
  {
   "cell_type": "markdown",
   "metadata": {},
   "source": [
    "### [ Try ]"
   ]
  },
  {
   "cell_type": "code",
   "execution_count": null,
   "metadata": {},
   "outputs": [],
   "source": [
    "class Solution:\n",
    "    def intersect(self, nums1: List[int], nums2: List[int]) -> List[int]:\n",
    "        answer = []\n",
    "        for i in range(len(nums1)):\n",
    "            for j in range(len(nums2)):\n",
    "                if nums1[i] == nums2[j]:\n",
    "                    answer.append(num2[j])\n",
    "        return answer"
   ]
  },
  {
   "cell_type": "markdown",
   "metadata": {},
   "source": [
    "### [ solution A ] - Counter함수 이용 / 40ms, 14.3MB"
   ]
  },
  {
   "cell_type": "code",
   "execution_count": 2,
   "metadata": {},
   "outputs": [],
   "source": [
    "from collections import Counter\n",
    "\n",
    "def intersect1(nums1, nums2): \n",
    "    result = [] \n",
    "        \n",
    "    cnt = dict(Counter(nums1))  # 원소별 개수 세서 딕셔너리 형태로 cnt에 담음\n",
    "        \n",
    "    for num in nums2: \n",
    "        if num in cnt and cnt[num] != 0: \n",
    "            result.append(num) \n",
    "            cnt[num] = cnt[num] - 1 \n",
    "                \n",
    "    return result\n",
    "\n",
    "# 출처: https://somjang.tistory.com/495 [솜씨좋은장씨]"
   ]
  },
  {
   "cell_type": "code",
   "execution_count": 4,
   "metadata": {},
   "outputs": [
    {
     "name": "stdout",
     "output_type": "stream",
     "text": [
      "{4: 1, 9: 1, 5: 1}\n",
      "1\n"
     ]
    }
   ],
   "source": [
    "nums1 = [4,9,5]\n",
    "cnt = dict(Counter(nums1))\n",
    "print(cnt)\n",
    "print(cnt[9])"
   ]
  },
  {
   "cell_type": "code",
   "execution_count": 9,
   "metadata": {},
   "outputs": [
    {
     "name": "stdout",
     "output_type": "stream",
     "text": [
      "[9, 4]\n"
     ]
    }
   ],
   "source": [
    "nums1 = [4,9,5]\n",
    "nums2 = [9,4,9,8,4]\n",
    "\n",
    "print(intersect1(nums1, nums2))"
   ]
  },
  {
   "cell_type": "markdown",
   "metadata": {},
   "source": [
    "### [ solution B ]"
   ]
  },
  {
   "cell_type": "code",
   "execution_count": 13,
   "metadata": {},
   "outputs": [],
   "source": [
    "def intersect2(nums1, nums2):\n",
    "    if len(nums2) > len(nums1):\n",
    "        nums1,nums2 = nums2,nums1\n",
    "    n1_dict, n2_dict = {}, {}\n",
    "    for n in nums1:\n",
    "        n1_dict[n] = n1_dict.get(n, 0) + 1\n",
    "    for n in nums2:\n",
    "        n2_dict[n] = n2_dict.get(n, 0) + 1\n",
    "         \n",
    "    ret = []\n",
    "    for k,v in n2_dict.items():\n",
    "        ret += [k]*min(v, n1_dict.get(k, 0))\n",
    "    return ret\n",
    "\n",
    "\n",
    "# 출처: https://qkqhxla1.tistory.com/1049 [archives]"
   ]
  },
  {
   "cell_type": "code",
   "execution_count": 14,
   "metadata": {},
   "outputs": [
    {
     "name": "stdout",
     "output_type": "stream",
     "text": [
      "[4, 9]\n"
     ]
    }
   ],
   "source": [
    "nums1 = [4,9,5]\n",
    "nums2 = [9,4,9,8,4]\n",
    "\n",
    "print(intersect2(nums1, nums2))"
   ]
  },
  {
   "cell_type": "markdown",
   "metadata": {},
   "source": [
    "### [ solution C ] - Counter 함수 사용 / 28ms"
   ]
  },
  {
   "cell_type": "code",
   "execution_count": 15,
   "metadata": {},
   "outputs": [],
   "source": [
    "from collections import Counter\n",
    "\n",
    "def intersect3(nums1, nums2):\n",
    "    \n",
    "    cnt = Counter(nums1)   # Counter\n",
    "    intersection = []\n",
    "    \n",
    "    for i in nums2:\n",
    "        if cnt[i] > 0:\n",
    "            intersection.append(i)\n",
    "            cnt[i] -= 1\n",
    "    return intersection"
   ]
  },
  {
   "cell_type": "code",
   "execution_count": 16,
   "metadata": {},
   "outputs": [
    {
     "name": "stdout",
     "output_type": "stream",
     "text": [
      "[9, 4]\n"
     ]
    }
   ],
   "source": [
    "nums1 = [4,9,5]\n",
    "nums2 = [9,4,9,8,4]\n",
    "\n",
    "print(intersect3(nums1, nums2))"
   ]
  },
  {
   "cell_type": "markdown",
   "metadata": {},
   "source": [
    "### [ solution D ] - Counter 함수 사용 / 36ms"
   ]
  },
  {
   "cell_type": "code",
   "execution_count": 17,
   "metadata": {},
   "outputs": [],
   "source": [
    "def intersect4(nums1, nums2):\n",
    "    from collections import Counter\n",
    "        \n",
    "    k = Counter(nums1) & Counter(nums2)\n",
    "    return [i for i, v in k.items() for j in range(v)]"
   ]
  },
  {
   "cell_type": "code",
   "execution_count": 18,
   "metadata": {},
   "outputs": [
    {
     "name": "stdout",
     "output_type": "stream",
     "text": [
      "[4, 9]\n"
     ]
    }
   ],
   "source": [
    "nums1 = [4,9,5]\n",
    "nums2 = [9,4,9,8,4]\n",
    "\n",
    "print(intersect4(nums1, nums2))"
   ]
  },
  {
   "cell_type": "markdown",
   "metadata": {},
   "source": [
    "### [ solution E ] - 14.1MB"
   ]
  },
  {
   "cell_type": "code",
   "execution_count": 20,
   "metadata": {},
   "outputs": [],
   "source": [
    "def intersect5(nums1, nums2):\n",
    "    \n",
    "    lst3 = []\n",
    "        \n",
    "    for i in nums1:\n",
    "        if i in nums2:\n",
    "            lst3.append(i)\n",
    "            nums2.remove(i)\n",
    "                \n",
    "    return lst3"
   ]
  },
  {
   "cell_type": "code",
   "execution_count": 21,
   "metadata": {},
   "outputs": [
    {
     "name": "stdout",
     "output_type": "stream",
     "text": [
      "[4, 9]\n"
     ]
    }
   ],
   "source": [
    "nums1 = [4,9,5]\n",
    "nums2 = [9,4,9,8,4]\n",
    "\n",
    "print(intersect5(nums1, nums2))"
   ]
  },
  {
   "cell_type": "markdown",
   "metadata": {},
   "source": [
    "### [ solution F ] - 44ms"
   ]
  },
  {
   "cell_type": "code",
   "execution_count": 22,
   "metadata": {},
   "outputs": [],
   "source": [
    "def intersect6(nums1, nums2):\n",
    "        cnt = {}\n",
    "        \n",
    "        for i in nums1:\n",
    "            if i in cnt:\n",
    "                cnt[i] += 1\n",
    "            else:\n",
    "                cnt[i] = 1\n",
    "                \n",
    "        output = []\n",
    "        \n",
    "        for i in nums2:\n",
    "            if i in cnt:\n",
    "                if cnt[i] > 1:\n",
    "                    cnt[i] -= 1\n",
    "                else:\n",
    "                    del cnt[i]\n",
    "                output.append(i)\n",
    "                \n",
    "        return output"
   ]
  },
  {
   "cell_type": "code",
   "execution_count": 23,
   "metadata": {},
   "outputs": [
    {
     "name": "stdout",
     "output_type": "stream",
     "text": [
      "[9, 4]\n"
     ]
    }
   ],
   "source": [
    "nums1 = [4,9,5]\n",
    "nums2 = [9,4,9,8,4]\n",
    "\n",
    "print(intersect6(nums1, nums2))"
   ]
  },
  {
   "cell_type": "markdown",
   "metadata": {},
   "source": [
    "### [ solution G ] - sort 함수 사용 / 48ms, 14.3MB"
   ]
  },
  {
   "cell_type": "code",
   "execution_count": 24,
   "metadata": {},
   "outputs": [],
   "source": [
    "def intersect7(nums1, nums2):\n",
    "    \n",
    "    nums1.sort()\n",
    "    nums2.sort()\n",
    "    p1 = 0\n",
    "    p2 = 0\n",
    "    n1 = len(nums1)\n",
    "    n2 = len(nums2)\n",
    "    result = []\n",
    "    \n",
    "    while p1 < n1 and p2 < n2:\n",
    "        if nums1[p1]<nums2[p2]:\n",
    "            p1 += 1\n",
    "        elif nums1[p1]>nums2[p2]:\n",
    "            p2 += 1\n",
    "        else:\n",
    "            result.append(nums1[p1])\n",
    "            p1 += 1\n",
    "            p2 += 1\n",
    "    return result"
   ]
  },
  {
   "cell_type": "code",
   "execution_count": 25,
   "metadata": {},
   "outputs": [
    {
     "name": "stdout",
     "output_type": "stream",
     "text": [
      "[4, 9]\n"
     ]
    }
   ],
   "source": [
    "nums1 = [4,9,5]\n",
    "nums2 = [9,4,9,8,4]\n",
    "\n",
    "print(intersect7(nums1, nums2))"
   ]
  }
 ],
 "metadata": {
  "kernelspec": {
   "display_name": "Python 3",
   "language": "python",
   "name": "python3"
  },
  "language_info": {
   "codemirror_mode": {
    "name": "ipython",
    "version": 3
   },
   "file_extension": ".py",
   "mimetype": "text/x-python",
   "name": "python",
   "nbconvert_exporter": "python",
   "pygments_lexer": "ipython3",
   "version": "3.7.3"
  }
 },
 "nbformat": 4,
 "nbformat_minor": 2
}
