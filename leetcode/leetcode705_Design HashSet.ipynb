{
 "cells": [
  {
   "cell_type": "markdown",
   "metadata": {},
   "source": [
    "## [ 문 제 ]\n",
    "\n",
    "Design a HashSet without using any built-in hash table libraries.    \n",
    "=> 내장된 해시 테이블 라이브러리를 사용하지 않고 해시 집합을 설계합니다.\n",
    "\n",
    "Implement `MyHashSet` class:\n",
    "\n",
    "* `void add(key)` Inserts the value `key` into the HashSet.     \n",
    "   => 해시 집합에 'key' 값을 삽입    \n",
    "   \n",
    "   \n",
    "* `bool contains(key)` Returns whether the value `key` exists in the HashSet or not.         \n",
    "   => 해시 집합에 값 'key'가 있는지 여부를 반환    \n",
    "   \n",
    "   \n",
    "* `void remove(key)` Removes the value key in the HashSet. If `key` does not exist in the HashSet, do nothing.          \n",
    "   => 해시 집합에서 값 키를 제거. 해시 집합에 '키'가 없는 경우 아무 작업도 수행하지 마십시오.\n",
    " \n",
    "--- \n",
    " \n",
    "\n",
    "### Example 1:\n",
    "\n",
    "#### Input          \n",
    "    [\"MyHashSet\", \"add\", \"add\", \"contains\", \"contains\", \"add\", \"contains\", \"remove\", \"contains\"]\n",
    "    [[], [1], [2], [1], [3], [2], [2], [2], [2]]\n",
    "\n",
    "#### Output         \n",
    "    [null, null, null, true, false, null, true, null, false]\n",
    "\n",
    "#### Explanation                  \n",
    "    MyHashSet myHashSet = new MyHashSet();\n",
    "    myHashSet.add(1);      // set = [1]\n",
    "    myHashSet.add(2);      // set = [1, 2]\n",
    "    myHashSet.contains(1); // return True\n",
    "    myHashSet.contains(3); // return False, (not found)\n",
    "    myHashSet.add(2);      // set = [1, 2]\n",
    "    myHashSet.contains(2); // return True\n",
    "    myHashSet.remove(2);   // set = [1]\n",
    "    myHashSet.contains(2); // return False, (already removed)\n",
    " \n",
    "\n",
    "#### Constraints:\n",
    "\n",
    "* $0 <= key <= 10^6$\n",
    "* At most $10^4$ calls will be made to `add`, `remove`, and `contains`.\n",
    " "
   ]
  },
  {
   "cell_type": "markdown",
   "metadata": {},
   "source": [
    "---\n",
    "---\n",
    "---"
   ]
  },
  {
   "cell_type": "code",
   "execution_count": null,
   "metadata": {},
   "outputs": [],
   "source": [
    "class MyHashSet:\n",
    "\n",
    "    def __init__(self):\n",
    "        \"\"\"\n",
    "        Initialize your data structure here.\n",
    "        \"\"\"\n",
    "        \n",
    "\n",
    "    def add(self, key: int) -> None:\n",
    "        \n",
    "\n",
    "    def remove(self, key: int) -> None:\n",
    "        \n",
    "\n",
    "    def contains(self, key: int) -> bool:\n",
    "        \"\"\"\n",
    "        Returns true if this set contains the specified element\n",
    "        \"\"\"\n",
    "        \n",
    "\n",
    "\n",
    "# Your MyHashSet object will be instantiated and called as such:\n",
    "# obj = MyHashSet()\n",
    "# obj.add(key)\n",
    "# obj.remove(key)\n",
    "# param_3 = obj.contains(key)"
   ]
  },
  {
   "cell_type": "markdown",
   "metadata": {},
   "source": [
    "### [ solution 1 ] - 304ms, 40.9MB"
   ]
  },
  {
   "cell_type": "code",
   "execution_count": null,
   "metadata": {},
   "outputs": [],
   "source": [
    "class MyHashSet:\n",
    "\n",
    "    def __init__(self):\n",
    "        self.hset = [False] * 1000001\n",
    "\n",
    "    def add(self, key):\n",
    "        self.hset[key] = True\n",
    "\n",
    "    def remove(self, key):\n",
    "        self.hset[key] = False\n",
    "\n",
    "    def contains(self, key):\n",
    "        return self.hset[key]"
   ]
  },
  {
   "cell_type": "markdown",
   "metadata": {},
   "source": [
    "### [ solution 2 ] - 124ms"
   ]
  },
  {
   "cell_type": "code",
   "execution_count": null,
   "metadata": {},
   "outputs": [],
   "source": [
    "class MyHashSet:\n",
    "\n",
    "    def __init__(self):       \n",
    "        self.hashset = set()\n",
    "  \n",
    "    def add(self, key: int) -> None:\n",
    "        self.hashset.add(key)        \n",
    "        \n",
    "    def remove(self, key: int) -> None:\n",
    "        if key in self.hashset:\n",
    "            self.hashset.remove(key)\n",
    "            # self.hashset.discard(key) (140ms로 증가)\n",
    "        \n",
    "    def contains(self, key: int) -> bool:\n",
    "        return key in self.hashset\n",
    "     # return True if key in self.hashset else False (132ms로 증가)"
   ]
  },
  {
   "cell_type": "markdown",
   "metadata": {},
   "source": [
    "### [ solution 3 ] - 18.3MB"
   ]
  },
  {
   "cell_type": "code",
   "execution_count": null,
   "metadata": {},
   "outputs": [],
   "source": [
    "### [ solution 2 ] - 124msclass MyHashSet:\n",
    "\n",
    "    def __init__(self):\n",
    "        self.hash = []\n",
    "        \n",
    "    def add(self, key: int) -> None:\n",
    "        if key not in self.hash:\n",
    "            self.hash.append(key)\n",
    "            \n",
    "    def remove(self, key: int) -> None:\n",
    "        if key in self.hash:\n",
    "            self.hash.remove(key)\n",
    "        # self.hash = [i for i in self.hash if i!=key] (0.7MB 증가)\n",
    "\n",
    "    def contains(self, key: int) -> bool:\n",
    "        return (key in self.hash)"
   ]
  },
  {
   "cell_type": "code",
   "execution_count": null,
   "metadata": {},
   "outputs": [],
   "source": []
  },
  {
   "cell_type": "code",
   "execution_count": null,
   "metadata": {},
   "outputs": [],
   "source": []
  },
  {
   "cell_type": "code",
   "execution_count": null,
   "metadata": {},
   "outputs": [],
   "source": []
  },
  {
   "cell_type": "code",
   "execution_count": null,
   "metadata": {},
   "outputs": [],
   "source": []
  },
  {
   "cell_type": "code",
   "execution_count": null,
   "metadata": {},
   "outputs": [],
   "source": []
  },
  {
   "cell_type": "code",
   "execution_count": null,
   "metadata": {},
   "outputs": [],
   "source": []
  },
  {
   "cell_type": "code",
   "execution_count": null,
   "metadata": {},
   "outputs": [],
   "source": []
  },
  {
   "cell_type": "code",
   "execution_count": null,
   "metadata": {},
   "outputs": [],
   "source": []
  },
  {
   "cell_type": "code",
   "execution_count": null,
   "metadata": {},
   "outputs": [],
   "source": []
  },
  {
   "cell_type": "code",
   "execution_count": null,
   "metadata": {},
   "outputs": [],
   "source": []
  },
  {
   "cell_type": "code",
   "execution_count": null,
   "metadata": {},
   "outputs": [],
   "source": []
  },
  {
   "cell_type": "code",
   "execution_count": null,
   "metadata": {},
   "outputs": [],
   "source": []
  }
 ],
 "metadata": {
  "kernelspec": {
   "display_name": "Python 3",
   "language": "python",
   "name": "python3"
  },
  "language_info": {
   "codemirror_mode": {
    "name": "ipython",
    "version": 3
   },
   "file_extension": ".py",
   "mimetype": "text/x-python",
   "name": "python",
   "nbconvert_exporter": "python",
   "pygments_lexer": "ipython3",
   "version": "3.7.3"
  }
 },
 "nbformat": 4,
 "nbformat_minor": 2
}
